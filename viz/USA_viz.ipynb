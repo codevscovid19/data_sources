{
 "cells": [
  {
   "cell_type": "code",
   "execution_count": 1,
   "metadata": {},
   "outputs": [],
   "source": [
    "import pandas as pd, matplotlib.pyplot as plt, numpy as np"
   ]
  },
  {
   "cell_type": "code",
   "execution_count": 2,
   "metadata": {},
   "outputs": [],
   "source": [
    "df = pd.read_csv('usa_covid_harmonized.csv')\n",
    "df.time_report = pd.to_datetime(df.time_report)"
   ]
  },
  {
   "cell_type": "code",
   "execution_count": 3,
   "metadata": {},
   "outputs": [
    {
     "data": {
      "text/html": [
       "<div>\n",
       "<style scoped>\n",
       "    .dataframe tbody tr th:only-of-type {\n",
       "        vertical-align: middle;\n",
       "    }\n",
       "\n",
       "    .dataframe tbody tr th {\n",
       "        vertical-align: top;\n",
       "    }\n",
       "\n",
       "    .dataframe thead th {\n",
       "        text-align: right;\n",
       "    }\n",
       "</style>\n",
       "<table border=\"1\" class=\"dataframe\">\n",
       "  <thead>\n",
       "    <tr style=\"text-align: right;\">\n",
       "      <th></th>\n",
       "      <th>Unnamed: 0</th>\n",
       "      <th>Unnamed: 0.1</th>\n",
       "      <th>time_report</th>\n",
       "      <th>region_small_name</th>\n",
       "      <th>region_large_name</th>\n",
       "      <th>region_small_code</th>\n",
       "      <th>region_large_code</th>\n",
       "      <th>country_iso</th>\n",
       "      <th>country_name</th>\n",
       "      <th>latitude</th>\n",
       "      <th>longitude</th>\n",
       "      <th>type</th>\n",
       "      <th>value</th>\n",
       "      <th>source</th>\n",
       "      <th>uuid</th>\n",
       "    </tr>\n",
       "  </thead>\n",
       "  <tbody>\n",
       "    <tr>\n",
       "      <th>0</th>\n",
       "      <td>0</td>\n",
       "      <td>0</td>\n",
       "      <td>2020-01-21</td>\n",
       "      <td>Snohomish</td>\n",
       "      <td>Washington</td>\n",
       "      <td>53</td>\n",
       "      <td>61</td>\n",
       "      <td>USA</td>\n",
       "      <td>United States of America</td>\n",
       "      <td>48.070464</td>\n",
       "      <td>-121.936784</td>\n",
       "      <td>total_positive</td>\n",
       "      <td>1</td>\n",
       "      <td>https://github.com/nytimes/covid-19-data</td>\n",
       "      <td>NaN</td>\n",
       "    </tr>\n",
       "    <tr>\n",
       "      <th>1</th>\n",
       "      <td>1</td>\n",
       "      <td>1</td>\n",
       "      <td>2020-01-22</td>\n",
       "      <td>Snohomish</td>\n",
       "      <td>Washington</td>\n",
       "      <td>53</td>\n",
       "      <td>61</td>\n",
       "      <td>USA</td>\n",
       "      <td>United States of America</td>\n",
       "      <td>48.070464</td>\n",
       "      <td>-121.936784</td>\n",
       "      <td>total_positive</td>\n",
       "      <td>1</td>\n",
       "      <td>https://github.com/nytimes/covid-19-data</td>\n",
       "      <td>NaN</td>\n",
       "    </tr>\n",
       "    <tr>\n",
       "      <th>2</th>\n",
       "      <td>2</td>\n",
       "      <td>2</td>\n",
       "      <td>2020-01-23</td>\n",
       "      <td>Snohomish</td>\n",
       "      <td>Washington</td>\n",
       "      <td>53</td>\n",
       "      <td>61</td>\n",
       "      <td>USA</td>\n",
       "      <td>United States of America</td>\n",
       "      <td>48.070464</td>\n",
       "      <td>-121.936784</td>\n",
       "      <td>total_positive</td>\n",
       "      <td>1</td>\n",
       "      <td>https://github.com/nytimes/covid-19-data</td>\n",
       "      <td>NaN</td>\n",
       "    </tr>\n",
       "    <tr>\n",
       "      <th>3</th>\n",
       "      <td>3</td>\n",
       "      <td>3</td>\n",
       "      <td>2020-01-24</td>\n",
       "      <td>Cook</td>\n",
       "      <td>Illinois</td>\n",
       "      <td>17</td>\n",
       "      <td>31</td>\n",
       "      <td>USA</td>\n",
       "      <td>United States of America</td>\n",
       "      <td>41.894294</td>\n",
       "      <td>-87.645455</td>\n",
       "      <td>total_positive</td>\n",
       "      <td>1</td>\n",
       "      <td>https://github.com/nytimes/covid-19-data</td>\n",
       "      <td>NaN</td>\n",
       "    </tr>\n",
       "    <tr>\n",
       "      <th>4</th>\n",
       "      <td>4</td>\n",
       "      <td>4</td>\n",
       "      <td>2020-01-24</td>\n",
       "      <td>Snohomish</td>\n",
       "      <td>Washington</td>\n",
       "      <td>53</td>\n",
       "      <td>61</td>\n",
       "      <td>USA</td>\n",
       "      <td>United States of America</td>\n",
       "      <td>48.070464</td>\n",
       "      <td>-121.936784</td>\n",
       "      <td>total_positive</td>\n",
       "      <td>1</td>\n",
       "      <td>https://github.com/nytimes/covid-19-data</td>\n",
       "      <td>NaN</td>\n",
       "    </tr>\n",
       "  </tbody>\n",
       "</table>\n",
       "</div>"
      ],
      "text/plain": [
       "   Unnamed: 0  Unnamed: 0.1 time_report region_small_name region_large_name  \\\n",
       "0           0             0  2020-01-21         Snohomish        Washington   \n",
       "1           1             1  2020-01-22         Snohomish        Washington   \n",
       "2           2             2  2020-01-23         Snohomish        Washington   \n",
       "3           3             3  2020-01-24              Cook          Illinois   \n",
       "4           4             4  2020-01-24         Snohomish        Washington   \n",
       "\n",
       "   region_small_code  region_large_code country_iso              country_name  \\\n",
       "0                 53                 61         USA  United States of America   \n",
       "1                 53                 61         USA  United States of America   \n",
       "2                 53                 61         USA  United States of America   \n",
       "3                 17                 31         USA  United States of America   \n",
       "4                 53                 61         USA  United States of America   \n",
       "\n",
       "    latitude   longitude            type  value  \\\n",
       "0  48.070464 -121.936784  total_positive      1   \n",
       "1  48.070464 -121.936784  total_positive      1   \n",
       "2  48.070464 -121.936784  total_positive      1   \n",
       "3  41.894294  -87.645455  total_positive      1   \n",
       "4  48.070464 -121.936784  total_positive      1   \n",
       "\n",
       "                                     source  uuid  \n",
       "0  https://github.com/nytimes/covid-19-data   NaN  \n",
       "1  https://github.com/nytimes/covid-19-data   NaN  \n",
       "2  https://github.com/nytimes/covid-19-data   NaN  \n",
       "3  https://github.com/nytimes/covid-19-data   NaN  \n",
       "4  https://github.com/nytimes/covid-19-data   NaN  "
      ]
     },
     "execution_count": 3,
     "metadata": {},
     "output_type": "execute_result"
    }
   ],
   "source": [
    "df.head()"
   ]
  },
  {
   "cell_type": "code",
   "execution_count": 4,
   "metadata": {},
   "outputs": [],
   "source": [
    "idx = df.groupby(['region_large_name','region_small_name','type']).value.mean().index"
   ]
  },
  {
   "cell_type": "code",
   "execution_count": 5,
   "metadata": {},
   "outputs": [],
   "source": [
    "state = 'Washington'\n",
    "county = 'Snohomish County'"
   ]
  },
  {
   "cell_type": "code",
   "execution_count": 6,
   "metadata": {},
   "outputs": [
    {
     "data": {
      "image/png": "[encoded data removed]",
      "text/plain": [
       "<Figure size 432x288 with 1 Axes>"
      ]
     },
     "metadata": {
      "needs_background": "light"
     },
     "output_type": "display_data"
    }
   ],
   "source": [
    "this_plot = df.loc[np.logical_and(df.region_large_name==state, df.region_small_name==county.replace(' County','')), ['time_report', 'type', 'value']].pivot(index='time_report', columns='type')\n",
    "this_plot.columns = ['total deceased', 'total infected']\n",
    "this_plot.plot()\n",
    "plt.xlim('2020-01-21', '2020-03-15')\n",
    "plt.yscale('log')\n",
    "plt.xlabel('')\n",
    "plt.title('%s, %s, USA' % (county, state))\n",
    "plt.show()"
   ]
  }
 ],
 "metadata": {
  "@webio": {
   "lastCommId": null,
   "lastKernelId": null
  },
  "kernelspec": {
   "display_name": "Python 3",
   "language": "python",
   "name": "python3"
  },
  "language_info": {
   "codemirror_mode": {
    "name": "ipython",
    "version": 3
   },
   "file_extension": ".py",
   "mimetype": "text/x-python",
   "name": "python",
   "nbconvert_exporter": "python",
   "pygments_lexer": "ipython3",
   "version": "3.7.4"
  }
 },
 "nbformat": 4,
 "nbformat_minor": 2
}
